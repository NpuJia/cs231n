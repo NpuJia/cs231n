{
 "cells": [
  {
   "cell_type": "markdown",
   "metadata": {},
   "source": [
    "# Softmax exercise\n",
    "\n",
    "*Complete and hand in this completed worksheet (including its outputs and any supporting code outside of the worksheet) with your assignment submission. For more details see the [assignments page](http://vision.stanford.edu/teaching/cs231n/assignments.html) on the course website.*\n",
    "\n",
    "This exercise is analogous to the SVM exercise. You will:\n",
    "\n",
    "- implement a fully-vectorized **loss function** for the Softmax classifier\n",
    "- implement the fully-vectorized expression for its **analytic gradient**\n",
    "- **check your implementation** with numerical gradient\n",
    "- use a validation set to **tune the learning rate and regularization** strength\n",
    "- **optimize** the loss function with **SGD**\n",
    "- **visualize** the final learned weights\n"
   ]
  },
  {
   "cell_type": "code",
   "execution_count": 1,
   "metadata": {
    "collapsed": false
   },
   "outputs": [],
   "source": [
    "import random\n",
    "import numpy as np\n",
    "from cs231n.data_utils import load_CIFAR10\n",
    "import matplotlib.pyplot as plt\n",
    "%matplotlib inline\n",
    "plt.rcParams['figure.figsize'] = (10.0, 8.0) # set default size of plots\n",
    "plt.rcParams['image.interpolation'] = 'nearest'\n",
    "plt.rcParams['image.cmap'] = 'gray'\n",
    "\n",
    "# for auto-reloading extenrnal modules\n",
    "# see http://stackoverflow.com/questions/1907993/autoreload-of-modules-in-ipython\n",
    "%load_ext autoreload\n",
    "%autoreload 2"
   ]
  },
  {
   "cell_type": "code",
   "execution_count": 2,
   "metadata": {
    "collapsed": false
   },
   "outputs": [
    {
     "name": "stdout",
     "output_type": "stream",
     "text": [
      "Train data shape:  (49000, 3073)\n",
      "Train labels shape:  (49000,)\n",
      "Validation data shape:  (1000, 3073)\n",
      "Validation labels shape:  (1000,)\n",
      "Test data shape:  (1000, 3073)\n",
      "Test labels shape:  (1000,)\n",
      "dev data shape:  (500, 3073)\n",
      "dev labels shape:  (500,)\n"
     ]
    }
   ],
   "source": [
    "def get_CIFAR10_data(num_training=49000, num_validation=1000, num_test=1000, num_dev=500):\n",
    "  \"\"\"\n",
    "  Load the CIFAR-10 dataset from disk and perform preprocessing to prepare\n",
    "  it for the linear classifier. These are the same steps as we used for the\n",
    "  SVM, but condensed to a single function.  \n",
    "  \"\"\"\n",
    "  # Load the raw CIFAR-10 data\n",
    "  cifar10_dir = 'cs231n/datasets/cifar-10-batches-py'\n",
    "  X_train, y_train, X_test, y_test = load_CIFAR10(cifar10_dir)\n",
    "  \n",
    "  # subsample the data\n",
    "  mask = range(num_training, num_training + num_validation)\n",
    "  X_val = X_train[mask]\n",
    "  y_val = y_train[mask]\n",
    "  mask = range(num_training)\n",
    "  X_train = X_train[mask]\n",
    "  y_train = y_train[mask]\n",
    "  mask = range(num_test)\n",
    "  X_test = X_test[mask]\n",
    "  y_test = y_test[mask]\n",
    "  mask = np.random.choice(num_training, num_dev, replace=False)\n",
    "  X_dev = X_train[mask]\n",
    "  y_dev = y_train[mask]\n",
    "  \n",
    "  # Preprocessing: reshape the image data into rows\n",
    "  X_train = np.reshape(X_train, (X_train.shape[0], -1))\n",
    "  X_val = np.reshape(X_val, (X_val.shape[0], -1))\n",
    "  X_test = np.reshape(X_test, (X_test.shape[0], -1))\n",
    "  X_dev = np.reshape(X_dev, (X_dev.shape[0], -1))\n",
    "  \n",
    "  # Normalize the data: subtract the mean image\n",
    "  mean_image = np.mean(X_train, axis = 0)\n",
    "  X_train -= mean_image\n",
    "  X_val -= mean_image\n",
    "  X_test -= mean_image\n",
    "  X_dev -= mean_image\n",
    "  \n",
    "  # add bias dimension and transform into columns\n",
    "  X_train = np.hstack([X_train, np.ones((X_train.shape[0], 1))])\n",
    "  X_val = np.hstack([X_val, np.ones((X_val.shape[0], 1))])\n",
    "  X_test = np.hstack([X_test, np.ones((X_test.shape[0], 1))])\n",
    "  X_dev = np.hstack([X_dev, np.ones((X_dev.shape[0], 1))])\n",
    "  \n",
    "  return X_train, y_train, X_val, y_val, X_test, y_test, X_dev, y_dev\n",
    "\n",
    "\n",
    "# Invoke the above function to get our data.\n",
    "X_train, y_train, X_val, y_val, X_test, y_test, X_dev, y_dev = get_CIFAR10_data()\n",
    "print 'Train data shape: ', X_train.shape\n",
    "print 'Train labels shape: ', y_train.shape\n",
    "print 'Validation data shape: ', X_val.shape\n",
    "print 'Validation labels shape: ', y_val.shape\n",
    "print 'Test data shape: ', X_test.shape\n",
    "print 'Test labels shape: ', y_test.shape\n",
    "print 'dev data shape: ', X_dev.shape\n",
    "print 'dev labels shape: ', y_dev.shape"
   ]
  },
  {
   "cell_type": "markdown",
   "metadata": {},
   "source": [
    "## Softmax Classifier\n",
    "\n",
    "Your code for this section will all be written inside **cs231n/classifiers/softmax.py**. \n"
   ]
  },
  {
   "cell_type": "code",
   "execution_count": 3,
   "metadata": {
    "collapsed": false,
    "scrolled": true
   },
   "outputs": [
    {
     "name": "stdout",
     "output_type": "stream",
     "text": [
      "loss: 2.318733\n",
      "sanity check: 2.302585\n"
     ]
    }
   ],
   "source": [
    "# First implement the naive softmax loss function with nested loops.\n",
    "# Open the file cs231n/classifiers/softmax.py and implement the\n",
    "# softmax_loss_naive function.\n",
    "\n",
    "from cs231n.classifiers.softmax import softmax_loss_naive\n",
    "import time\n",
    "\n",
    "# Generate a random softmax weight matrix and use it to compute the loss.\n",
    "W = np.random.randn(3073, 10) * 0.0001\n",
    "loss, grad = softmax_loss_naive(W, X_dev, y_dev, 0.0)\n",
    "\n",
    "# As a rough sanity check, our loss should be something close to -log(0.1).\n",
    "print 'loss: %f' % loss\n",
    "print 'sanity check: %f' % (-np.log(0.1))"
   ]
  },
  {
   "cell_type": "markdown",
   "metadata": {},
   "source": [
    "## Inline Question 1:\n",
    "Why do we expect our loss to be close to -log(0.1)? Explain briefly.\n",
    "\n",
    "**Your answer:** The output of softmax can be thought of as a probability distribution. The output has equal probability, because the weight matrix $W$ is a random matrix. Thus $f_{y_i}$(i=1, ... , n, where n is the number of output) are the same. So $L_i = -log(\\frac{exp({f_{y_i}})}{\\sum_i{exp(f_i)}}) \\approx -log(\\frac{exp({f_{y_i}})}{n * {exp(f_j)}}) = -log(\\frac{1}{n}) = -log(0.1)$.\n"
   ]
  },
  {
   "cell_type": "code",
   "execution_count": 4,
   "metadata": {
    "collapsed": false,
    "scrolled": false
   },
   "outputs": [
    {
     "name": "stdout",
     "output_type": "stream",
     "text": [
      "numerical: -2.407489 analytic: -2.407490, relative error: 1.176513e-08\n",
      "numerical: 1.756963 analytic: 1.756963, relative error: 3.789439e-08\n",
      "numerical: -1.150483 analytic: -1.150483, relative error: 7.635650e-09\n",
      "numerical: 1.084511 analytic: 1.084511, relative error: 2.346023e-08\n",
      "numerical: 1.993198 analytic: 1.993198, relative error: 1.432742e-08\n",
      "numerical: 0.382097 analytic: 0.382097, relative error: 4.908092e-08\n",
      "numerical: 0.098272 analytic: 0.098272, relative error: 1.453966e-07\n",
      "numerical: -3.793969 analytic: -3.793969, relative error: 1.312925e-08\n",
      "numerical: 1.460750 analytic: 1.460750, relative error: 4.412412e-08\n",
      "numerical: -1.113730 analytic: -1.113730, relative error: 7.797266e-09\n",
      "numerical: 2.248382 analytic: 2.248382, relative error: 4.030072e-09\n",
      "numerical: -0.133977 analytic: -0.133977, relative error: 1.621981e-07\n",
      "numerical: 1.112618 analytic: 1.112618, relative error: 1.396860e-08\n",
      "numerical: -0.202486 analytic: -0.202486, relative error: 4.074265e-07\n",
      "numerical: 0.145774 analytic: 0.145774, relative error: 3.149232e-08\n",
      "numerical: -0.395735 analytic: -0.395735, relative error: 1.097329e-07\n",
      "numerical: 2.914231 analytic: 2.914231, relative error: 9.468318e-09\n",
      "numerical: 0.303575 analytic: 0.303575, relative error: 4.507041e-08\n",
      "numerical: 2.520472 analytic: 2.520472, relative error: 2.069605e-09\n",
      "numerical: 1.985784 analytic: 1.985784, relative error: 2.234282e-08\n"
     ]
    }
   ],
   "source": [
    "# Complete the implementation of softmax_loss_naive and implement a (naive)\n",
    "# version of the gradient that uses nested loops.\n",
    "loss, grad = softmax_loss_naive(W, X_dev, y_dev, 0.0)\n",
    "\n",
    "# As we did for the SVM, use numeric gradient checking as a debugging tool.\n",
    "# The numeric gradient should be close to the analytic gradient.\n",
    "from cs231n.gradient_check import grad_check_sparse\n",
    "f = lambda w: softmax_loss_naive(w, X_dev, y_dev, 0.0)[0]\n",
    "grad_numerical = grad_check_sparse(f, W, grad, 10)\n",
    "\n",
    "# similar to SVM case, do another gradient check with regularization\n",
    "loss, grad = softmax_loss_naive(W, X_dev, y_dev, 1e2)\n",
    "f = lambda w: softmax_loss_naive(w, X_dev, y_dev, 1e2)[0]\n",
    "grad_numerical = grad_check_sparse(f, W, grad, 10)"
   ]
  },
  {
   "cell_type": "code",
   "execution_count": 5,
   "metadata": {
    "collapsed": false,
    "scrolled": true
   },
   "outputs": [
    {
     "name": "stdout",
     "output_type": "stream",
     "text": [
      "naive loss: 2.318733e+00 computed in 0.127019s\n",
      "vectorized loss: 2.318733e+00 computed in 0.012640s\n",
      "Loss difference: 0.000000\n",
      "Gradient difference: 0.000000\n"
     ]
    }
   ],
   "source": [
    "# Now that we have a naive implementation of the softmax loss function and its gradient,\n",
    "# implement a vectorized version in softmax_loss_vectorized.\n",
    "# The two versions should compute the same results, but the vectorized version should be\n",
    "# much faster.\n",
    "tic = time.time()\n",
    "loss_naive, grad_naive = softmax_loss_naive(W, X_dev, y_dev, 0.00001)\n",
    "toc = time.time()\n",
    "print 'naive loss: %e computed in %fs' % (loss_naive, toc - tic)\n",
    "\n",
    "from cs231n.classifiers.softmax import softmax_loss_vectorized\n",
    "tic = time.time()\n",
    "loss_vectorized, grad_vectorized = softmax_loss_vectorized(W, X_dev, y_dev, 0.00001)\n",
    "toc = time.time()\n",
    "print 'vectorized loss: %e computed in %fs' % (loss_vectorized, toc - tic)\n",
    "\n",
    "# As we did for the SVM, we use the Frobenius norm to compare the two versions\n",
    "# of the gradient.\n",
    "grad_difference = np.linalg.norm(grad_naive - grad_vectorized, ord='fro')\n",
    "print 'Loss difference: %f' % np.abs(loss_naive - loss_vectorized)\n",
    "print 'Gradient difference: %f' % grad_difference"
   ]
  },
  {
   "cell_type": "code",
   "execution_count": 6,
   "metadata": {
    "collapsed": false
   },
   "outputs": [
    {
     "name": "stdout",
     "output_type": "stream",
     "text": [
      "iteration 0 / 1500: loss 769.094868\n",
      "iteration 100 / 1500: loss 465.686369\n",
      "iteration 200 / 1500: loss 282.382084\n",
      "iteration 300 / 1500: loss 171.628566\n",
      "iteration 400 / 1500: loss 104.755146\n",
      "iteration 500 / 1500: loss 64.209987\n",
      "iteration 600 / 1500: loss 39.674958\n",
      "iteration 700 / 1500: loss 24.850040\n",
      "iteration 800 / 1500: loss 15.896573\n",
      "iteration 900 / 1500: loss 10.499177\n",
      "iteration 1000 / 1500: loss 7.154349\n",
      "iteration 1100 / 1500: loss 5.124084\n",
      "iteration 1200 / 1500: loss 3.963000\n",
      "iteration 1300 / 1500: loss 3.207615\n",
      "iteration 1400 / 1500: loss 2.794726\n",
      "iteration 0 / 1500: loss 767.497977\n",
      "iteration 100 / 1500: loss 281.496494\n",
      "iteration 200 / 1500: loss 104.373514\n",
      "iteration 300 / 1500: loss 39.561788\n",
      "iteration 400 / 1500: loss 15.787407\n",
      "iteration 500 / 1500: loss 7.116591\n",
      "iteration 600 / 1500: loss 3.941939\n",
      "iteration 700 / 1500: loss 2.796473\n",
      "iteration 800 / 1500: loss 2.342415\n",
      "iteration 900 / 1500: loss 2.215864\n",
      "iteration 1000 / 1500: loss 2.120111\n",
      "iteration 1100 / 1500: loss 2.107677\n",
      "iteration 1200 / 1500: loss 2.063005\n",
      "iteration 1300 / 1500: loss 2.088742\n",
      "iteration 1400 / 1500: loss 1.995080\n",
      "iteration 0 / 1500: loss 772.691366\n",
      "iteration 100 / 1500: loss 6.923384\n",
      "iteration 200 / 1500: loss 2.078157\n",
      "iteration 300 / 1500: loss 2.102260\n",
      "iteration 400 / 1500: loss 2.113738\n",
      "iteration 500 / 1500: loss 2.085620\n",
      "iteration 600 / 1500: loss 2.043187\n",
      "iteration 700 / 1500: loss 2.065271\n",
      "iteration 800 / 1500: loss 2.107591\n",
      "iteration 900 / 1500: loss 2.100960\n",
      "iteration 1000 / 1500: loss 2.116837\n",
      "iteration 1100 / 1500: loss 2.099844\n",
      "iteration 1200 / 1500: loss 2.096501\n",
      "iteration 1300 / 1500: loss 2.092116\n",
      "iteration 1400 / 1500: loss 2.052433\n",
      "iteration 0 / 1500: loss 15342.248134\n",
      "iteration 100 / 1500: loss 2.806799\n",
      "iteration 200 / 1500: loss 2.274774\n",
      "iteration 300 / 1500: loss 2.255250\n",
      "iteration 400 / 1500: loss 2.269757\n",
      "iteration 500 / 1500: loss 2.274464\n",
      "iteration 600 / 1500: loss 2.262596\n",
      "iteration 700 / 1500: loss 2.275914\n",
      "iteration 800 / 1500: loss 2.272440\n",
      "iteration 900 / 1500: loss 2.259995\n",
      "iteration 1000 / 1500: loss 2.270384\n",
      "iteration 1100 / 1500: loss 2.266967\n",
      "iteration 1200 / 1500: loss 2.263758\n",
      "iteration 1300 / 1500: loss 2.262218\n",
      "iteration 1400 / 1500: loss 2.271301\n",
      "iteration 0 / 1500: loss 15383.669314\n",
      "iteration 100 / 1500: loss 2.267432\n",
      "iteration 200 / 1500: loss 2.267396\n",
      "iteration 300 / 1500: loss 2.266880\n",
      "iteration 400 / 1500: loss 2.268149\n",
      "iteration 500 / 1500: loss 2.271610\n",
      "iteration 600 / 1500: loss 2.261711\n",
      "iteration 700 / 1500: loss 2.279885\n",
      "iteration 800 / 1500: loss 2.265904\n",
      "iteration 900 / 1500: loss 2.271966\n",
      "iteration 1000 / 1500: loss 2.267339\n",
      "iteration 1100 / 1500: loss 2.295182\n",
      "iteration 1200 / 1500: loss 2.271540\n",
      "iteration 1300 / 1500: loss 2.260695\n",
      "iteration 1400 / 1500: loss 2.264781\n",
      "iteration 0 / 1500: loss 15146.181878\n",
      "iteration 100 / 1500: loss 2.278910\n",
      "iteration 200 / 1500: loss 2.279280\n",
      "iteration 300 / 1500: loss 2.301263\n",
      "iteration 400 / 1500: loss 2.269147\n",
      "iteration 500 / 1500: loss 2.267201\n",
      "iteration 600 / 1500: loss 2.273342\n",
      "iteration 700 / 1500: loss 2.277226\n",
      "iteration 800 / 1500: loss 2.283034\n",
      "iteration 900 / 1500: loss 2.286241\n",
      "iteration 1000 / 1500: loss 2.269683\n",
      "iteration 1100 / 1500: loss 2.294304\n",
      "iteration 1200 / 1500: loss 2.278131\n",
      "iteration 1300 / 1500: loss 2.279509\n",
      "iteration 1400 / 1500: loss 2.286803\n",
      "lr 5.000000e-08 reg 5.000000e+04 train accuracy: 0.325184 val accuracy: 0.337000\n",
      "lr 5.000000e-08 reg 1.000000e+06 train accuracy: 0.253755 val accuracy: 0.276000\n",
      "lr 1.000000e-07 reg 5.000000e+04 train accuracy: 0.332714 val accuracy: 0.348000\n",
      "lr 1.000000e-07 reg 1.000000e+06 train accuracy: 0.251265 val accuracy: 0.268000\n",
      "lr 5.000000e-07 reg 5.000000e+04 train accuracy: 0.317980 val accuracy: 0.345000\n",
      "lr 5.000000e-07 reg 1.000000e+06 train accuracy: 0.220245 val accuracy: 0.227000\n",
      "best validation accuracy achieved during cross-validation: 0.348000\n"
     ]
    }
   ],
   "source": [
    "# Use the validation set to tune hyperparameters (regularization strength and\n",
    "# learning rate). You should experiment with different ranges for the learning\n",
    "# rates and regularization strengths; if you are careful you should be able to\n",
    "# get a classification accuracy of over 0.35 on the validation set.\n",
    "from cs231n.classifiers import Softmax\n",
    "results = {}\n",
    "best_val = -1\n",
    "best_softmax = None\n",
    "learning_rates = [5e-8, 1e-7, 5e-7]\n",
    "regularization_strengths = [5e4, 1e6]\n",
    "\n",
    "################################################################################\n",
    "# Use the validation set to set the learning rate and regularization strength. #\n",
    "# This should be identical to the validation that you did for the SVM; save    #\n",
    "# the best trained softmax classifer in best_softmax.                          #\n",
    "################################################################################\n",
    "for reg in regularization_strengths:\n",
    "    for lr in learning_rates:\n",
    "        softmax = Softmax()\n",
    "        softmax.train(X_train, y_train, learning_rate=lr, reg=reg, \n",
    "                  num_iters=1500, verbose=True)\n",
    "        \n",
    "        y_train_pred = softmax.predict(X_train)\n",
    "        train_acc = np.mean(y_train == y_train_pred)\n",
    "        y_val_pred = softmax.predict(X_val)\n",
    "        val_acc = np.mean(y_val == y_val_pred)\n",
    "        \n",
    "        results[(lr, reg)] = (train_acc, val_acc)\n",
    "        if val_acc > best_val:\n",
    "            best_val = val_acc\n",
    "            best_softmax = softmax\n",
    "################################################################################\n",
    "#                              END OF YOUR CODE                                #\n",
    "################################################################################\n",
    "    \n",
    "# Print out results.\n",
    "for lr, reg in sorted(results):\n",
    "    train_accuracy, val_accuracy = results[(lr, reg)]\n",
    "    print 'lr %e reg %e train accuracy: %f val accuracy: %f' % (\n",
    "                lr, reg, train_accuracy, val_accuracy)\n",
    "    \n",
    "print 'best validation accuracy achieved during cross-validation: %f' % best_val"
   ]
  },
  {
   "cell_type": "code",
   "execution_count": 7,
   "metadata": {
    "collapsed": false
   },
   "outputs": [
    {
     "name": "stdout",
     "output_type": "stream",
     "text": [
      "softmax on raw pixels final test set accuracy: 0.344000\n"
     ]
    }
   ],
   "source": [
    "# evaluate on test set\n",
    "# Evaluate the best softmax on test set\n",
    "y_test_pred = best_softmax.predict(X_test)\n",
    "test_accuracy = np.mean(y_test == y_test_pred)\n",
    "print 'softmax on raw pixels final test set accuracy: %f' % (test_accuracy, )"
   ]
  },
  {
   "cell_type": "code",
   "execution_count": 8,
   "metadata": {
    "collapsed": false
   },
   "outputs": [
    {
     "data": {
      "image/png": "[encoded data removed]",
      "text/plain": [
       "<matplotlib.figure.Figure at 0x7f22e7c20350>"
      ]
     },
     "metadata": {},
     "output_type": "display_data"
    }
   ],
   "source": [
    "# Visualize the learned weights for each class\n",
    "w = best_softmax.W[:-1,:] # strip out the bias\n",
    "w = w.reshape(32, 32, 3, 10)\n",
    "\n",
    "w_min, w_max = np.min(w), np.max(w)\n",
    "\n",
    "classes = ['plane', 'car', 'bird', 'cat', 'deer', 'dog', 'frog', 'horse', 'ship', 'truck']\n",
    "for i in xrange(10):\n",
    "  plt.subplot(2, 5, i + 1)\n",
    "  \n",
    "  # Rescale the weights to be between 0 and 255\n",
    "  wimg = 255.0 * (w[:, :, :, i].squeeze() - w_min) / (w_max - w_min)\n",
    "  plt.imshow(wimg.astype('uint8'))\n",
    "  plt.axis('off')\n",
    "  plt.title(classes[i])"
   ]
  }
 ],
 "metadata": {
  "kernelspec": {
   "display_name": "Python 2",
   "language": "python",
   "name": "python2"
  },
  "language_info": {
   "codemirror_mode": {
    "name": "ipython",
    "version": 2
   },
   "file_extension": ".py",
   "mimetype": "text/x-python",
   "name": "python",
   "nbconvert_exporter": "python",
   "pygments_lexer": "ipython2",
   "version": "2.7.12"
  }
 },
 "nbformat": 4,
 "nbformat_minor": 0
}
