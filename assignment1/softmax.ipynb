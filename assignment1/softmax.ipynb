{
 "cells": [
  {
   "cell_type": "markdown",
   "metadata": {},
   "source": [
    "# Softmax exercise\n",
    "\n",
    "*Complete and hand in this completed worksheet (including its outputs and any supporting code outside of the worksheet) with your assignment submission. For more details see the [assignments page](http://vision.stanford.edu/teaching/cs231n/assignments.html) on the course website.*\n",
    "\n",
    "This exercise is analogous to the SVM exercise. You will:\n",
    "\n",
    "- implement a fully-vectorized **loss function** for the Softmax classifier\n",
    "- implement the fully-vectorized expression for its **analytic gradient**\n",
    "- **check your implementation** with numerical gradient\n",
    "- use a validation set to **tune the learning rate and regularization** strength\n",
    "- **optimize** the loss function with **SGD**\n",
    "- **visualize** the final learned weights\n"
   ]
  },
  {
   "cell_type": "code",
   "execution_count": 1,
   "metadata": {
    "collapsed": false
   },
   "outputs": [],
   "source": [
    "import random\n",
    "import numpy as np\n",
    "from cs231n.data_utils import load_CIFAR10\n",
    "import matplotlib.pyplot as plt\n",
    "%matplotlib inline\n",
    "plt.rcParams['figure.figsize'] = (10.0, 8.0) # set default size of plots\n",
    "plt.rcParams['image.interpolation'] = 'nearest'\n",
    "plt.rcParams['image.cmap'] = 'gray'\n",
    "\n",
    "# for auto-reloading extenrnal modules\n",
    "# see http://stackoverflow.com/questions/1907993/autoreload-of-modules-in-ipython\n",
    "%load_ext autoreload\n",
    "%autoreload 2"
   ]
  },
  {
   "cell_type": "code",
   "execution_count": 2,
   "metadata": {
    "collapsed": false
   },
   "outputs": [
    {
     "name": "stdout",
     "output_type": "stream",
     "text": [
      "Train data shape:  (49000, 3073)\n",
      "Train labels shape:  (49000,)\n",
      "Validation data shape:  (1000, 3073)\n",
      "Validation labels shape:  (1000,)\n",
      "Test data shape:  (1000, 3073)\n",
      "Test labels shape:  (1000,)\n",
      "dev data shape:  (500, 3073)\n",
      "dev labels shape:  (500,)\n"
     ]
    }
   ],
   "source": [
    "def get_CIFAR10_data(num_training=49000, num_validation=1000, num_test=1000, num_dev=500):\n",
    "  \"\"\"\n",
    "  Load the CIFAR-10 dataset from disk and perform preprocessing to prepare\n",
    "  it for the linear classifier. These are the same steps as we used for the\n",
    "  SVM, but condensed to a single function.  \n",
    "  \"\"\"\n",
    "  # Load the raw CIFAR-10 data\n",
    "  cifar10_dir = 'cs231n/datasets/cifar-10-batches-py'\n",
    "  X_train, y_train, X_test, y_test = load_CIFAR10(cifar10_dir)\n",
    "  \n",
    "  # subsample the data\n",
    "  mask = range(num_training, num_training + num_validation)\n",
    "  X_val = X_train[mask]\n",
    "  y_val = y_train[mask]\n",
    "  mask = range(num_training)\n",
    "  X_train = X_train[mask]\n",
    "  y_train = y_train[mask]\n",
    "  mask = range(num_test)\n",
    "  X_test = X_test[mask]\n",
    "  y_test = y_test[mask]\n",
    "  mask = np.random.choice(num_training, num_dev, replace=False)\n",
    "  X_dev = X_train[mask]\n",
    "  y_dev = y_train[mask]\n",
    "  \n",
    "  # Preprocessing: reshape the image data into rows\n",
    "  X_train = np.reshape(X_train, (X_train.shape[0], -1))\n",
    "  X_val = np.reshape(X_val, (X_val.shape[0], -1))\n",
    "  X_test = np.reshape(X_test, (X_test.shape[0], -1))\n",
    "  X_dev = np.reshape(X_dev, (X_dev.shape[0], -1))\n",
    "  \n",
    "  # Normalize the data: subtract the mean image\n",
    "  mean_image = np.mean(X_train, axis = 0)\n",
    "  X_train -= mean_image\n",
    "  X_val -= mean_image\n",
    "  X_test -= mean_image\n",
    "  X_dev -= mean_image\n",
    "  \n",
    "  # add bias dimension and transform into columns\n",
    "  X_train = np.hstack([X_train, np.ones((X_train.shape[0], 1))])\n",
    "  X_val = np.hstack([X_val, np.ones((X_val.shape[0], 1))])\n",
    "  X_test = np.hstack([X_test, np.ones((X_test.shape[0], 1))])\n",
    "  X_dev = np.hstack([X_dev, np.ones((X_dev.shape[0], 1))])\n",
    "  \n",
    "  return X_train, y_train, X_val, y_val, X_test, y_test, X_dev, y_dev\n",
    "\n",
    "\n",
    "# Invoke the above function to get our data.\n",
    "X_train, y_train, X_val, y_val, X_test, y_test, X_dev, y_dev = get_CIFAR10_data()\n",
    "print 'Train data shape: ', X_train.shape\n",
    "print 'Train labels shape: ', y_train.shape\n",
    "print 'Validation data shape: ', X_val.shape\n",
    "print 'Validation labels shape: ', y_val.shape\n",
    "print 'Test data shape: ', X_test.shape\n",
    "print 'Test labels shape: ', y_test.shape\n",
    "print 'dev data shape: ', X_dev.shape\n",
    "print 'dev labels shape: ', y_dev.shape"
   ]
  },
  {
   "cell_type": "markdown",
   "metadata": {},
   "source": [
    "## Softmax Classifier\n",
    "\n",
    "Your code for this section will all be written inside **cs231n/classifiers/softmax.py**. \n"
   ]
  },
  {
   "cell_type": "code",
   "execution_count": 3,
   "metadata": {
    "collapsed": false,
    "scrolled": true
   },
   "outputs": [
    {
     "name": "stdout",
     "output_type": "stream",
     "text": [
      "loss: 2.346859\n",
      "sanity check: 2.302585\n"
     ]
    }
   ],
   "source": [
    "# First implement the naive softmax loss function with nested loops.\n",
    "# Open the file cs231n/classifiers/softmax.py and implement the\n",
    "# softmax_loss_naive function.\n",
    "\n",
    "from cs231n.classifiers.softmax import softmax_loss_naive\n",
    "import time\n",
    "\n",
    "# Generate a random softmax weight matrix and use it to compute the loss.\n",
    "W = np.random.randn(3073, 10) * 0.0001\n",
    "loss, grad = softmax_loss_naive(W, X_dev, y_dev, 0.0)\n",
    "\n",
    "# As a rough sanity check, our loss should be something close to -log(0.1).\n",
    "print 'loss: %f' % loss\n",
    "print 'sanity check: %f' % (-np.log(0.1))"
   ]
  },
  {
   "cell_type": "markdown",
   "metadata": {},
   "source": [
    "## Inline Question 1:\n",
    "Why do we expect our loss to be close to -log(0.1)? Explain briefly.\n",
    "\n",
    "**Your answer:** The output of softmax can be thought of as a probability distribution. The output has equal probability, because the weight matrix $W$ is a random matrix. Thus $f_{y_i}$(i=1, ... , n, where n is the number of output) are the same. So $L_i = -log(\\frac{exp({f_{y_i}})}{\\sum_i{exp(f_i)}}) \\approx -log(\\frac{exp({f_{y_i}})}{n * {exp(f_j)}}) = -log(\\frac{1}{n}) = -log(0.1)$.\n"
   ]
  },
  {
   "cell_type": "code",
   "execution_count": 4,
   "metadata": {
    "collapsed": false,
    "scrolled": false
   },
   "outputs": [
    {
     "name": "stdout",
     "output_type": "stream",
     "text": [
      "numerical: -0.286209 analytic: -0.286209, relative error: 5.995367e-08\n",
      "numerical: 2.615812 analytic: 2.615812, relative error: 1.142053e-08\n",
      "numerical: 1.531705 analytic: 1.531705, relative error: 6.461316e-08\n",
      "numerical: -0.545870 analytic: -0.545870, relative error: 3.624841e-08\n",
      "numerical: 2.831703 analytic: 2.831703, relative error: 1.404653e-08\n",
      "numerical: 0.738498 analytic: 0.738498, relative error: 1.502897e-08\n",
      "numerical: 1.471860 analytic: 1.471860, relative error: 2.612723e-08\n",
      "numerical: 0.932038 analytic: 0.932038, relative error: 9.491740e-08\n",
      "numerical: 0.811108 analytic: 0.811108, relative error: 2.959496e-09\n",
      "numerical: -2.934081 analytic: -2.934081, relative error: 3.573466e-09\n",
      "numerical: -0.563373 analytic: -0.563373, relative error: 1.450940e-08\n",
      "numerical: -0.775099 analytic: -0.775099, relative error: 1.423058e-08\n",
      "numerical: 2.353244 analytic: 2.353244, relative error: 5.671691e-09\n",
      "numerical: 0.420370 analytic: 0.420370, relative error: 1.044179e-07\n",
      "numerical: -2.744871 analytic: -2.744871, relative error: 1.702327e-08\n",
      "numerical: -0.195669 analytic: -0.195670, relative error: 3.976080e-07\n",
      "numerical: 1.296530 analytic: 1.296530, relative error: 6.376329e-08\n",
      "numerical: -2.051161 analytic: -2.051161, relative error: 9.489101e-09\n",
      "numerical: 0.618996 analytic: 0.618996, relative error: 1.382038e-07\n",
      "numerical: -2.031967 analytic: -2.031967, relative error: 1.678911e-08\n"
     ]
    }
   ],
   "source": [
    "# Complete the implementation of softmax_loss_naive and implement a (naive)\n",
    "# version of the gradient that uses nested loops.\n",
    "loss, grad = softmax_loss_naive(W, X_dev, y_dev, 0.0)\n",
    "\n",
    "# As we did for the SVM, use numeric gradient checking as a debugging tool.\n",
    "# The numeric gradient should be close to the analytic gradient.\n",
    "from cs231n.gradient_check import grad_check_sparse\n",
    "f = lambda w: softmax_loss_naive(w, X_dev, y_dev, 0.0)[0]\n",
    "grad_numerical = grad_check_sparse(f, W, grad, 10)\n",
    "\n",
    "# similar to SVM case, do another gradient check with regularization\n",
    "loss, grad = softmax_loss_naive(W, X_dev, y_dev, 1e2)\n",
    "f = lambda w: softmax_loss_naive(w, X_dev, y_dev, 1e2)[0]\n",
    "grad_numerical = grad_check_sparse(f, W, grad, 10)"
   ]
  },
  {
   "cell_type": "code",
   "execution_count": 5,
   "metadata": {
    "collapsed": false,
    "scrolled": true
   },
   "outputs": [
    {
     "name": "stdout",
     "output_type": "stream",
     "text": [
      "naive loss: 2.346859e+00 computed in 0.116236s\n",
      "vectorized loss: 2.346859e+00 computed in 0.011732s\n",
      "Loss difference: 0.000000\n",
      "Gradient difference: 0.000000\n"
     ]
    }
   ],
   "source": [
    "# Now that we have a naive implementation of the softmax loss function and its gradient,\n",
    "# implement a vectorized version in softmax_loss_vectorized.\n",
    "# The two versions should compute the same results, but the vectorized version should be\n",
    "# much faster.\n",
    "tic = time.time()\n",
    "loss_naive, grad_naive = softmax_loss_naive(W, X_dev, y_dev, 0.00001)\n",
    "toc = time.time()\n",
    "print 'naive loss: %e computed in %fs' % (loss_naive, toc - tic)\n",
    "\n",
    "from cs231n.classifiers.softmax import softmax_loss_vectorized\n",
    "tic = time.time()\n",
    "loss_vectorized, grad_vectorized = softmax_loss_vectorized(W, X_dev, y_dev, 0.00001)\n",
    "toc = time.time()\n",
    "print 'vectorized loss: %e computed in %fs' % (loss_vectorized, toc - tic)\n",
    "\n",
    "# As we did for the SVM, we use the Frobenius norm to compare the two versions\n",
    "# of the gradient.\n",
    "grad_difference = np.linalg.norm(grad_naive - grad_vectorized, ord='fro')\n",
    "print 'Loss difference: %f' % np.abs(loss_naive - loss_vectorized)\n",
    "print 'Gradient difference: %f' % grad_difference"
   ]
  },
  {
   "cell_type": "code",
   "execution_count": 6,
   "metadata": {
    "collapsed": false
   },
   "outputs": [
    {
     "name": "stdout",
     "output_type": "stream",
     "text": [
      "iteration 0 / 1500: loss 778.956647\n",
      "iteration 100 / 1500: loss 471.712894\n",
      "iteration 200 / 1500: loss 286.001587\n",
      "iteration 300 / 1500: loss 174.039222\n",
      "iteration 400 / 1500: loss 106.163238\n",
      "iteration 500 / 1500: loss 65.033730\n",
      "iteration 600 / 1500: loss 40.213235\n",
      "iteration 700 / 1500: loss 25.224256\n",
      "iteration 800 / 1500: loss 16.060869\n",
      "iteration 900 / 1500: loss 10.510844\n",
      "iteration 1000 / 1500: loss 7.240892\n",
      "iteration 1100 / 1500: loss 5.161559\n",
      "iteration 1200 / 1500: loss 4.019767\n",
      "iteration 1300 / 1500: loss 3.262372\n",
      "iteration 1400 / 1500: loss 2.782667\n",
      "iteration 0 / 1500: loss 775.749940\n",
      "iteration 100 / 1500: loss 284.855848\n",
      "iteration 200 / 1500: loss 105.635012\n",
      "iteration 300 / 1500: loss 39.936127\n",
      "iteration 400 / 1500: loss 15.898526\n",
      "iteration 500 / 1500: loss 7.147971\n",
      "iteration 600 / 1500: loss 3.947213\n",
      "iteration 700 / 1500: loss 2.776147\n",
      "iteration 800 / 1500: loss 2.283400\n",
      "iteration 900 / 1500: loss 2.219186\n",
      "iteration 1000 / 1500: loss 2.098813\n",
      "iteration 1100 / 1500: loss 2.140459\n",
      "iteration 1200 / 1500: loss 2.095232\n",
      "iteration 1300 / 1500: loss 2.137681\n",
      "iteration 1400 / 1500: loss 2.084463\n",
      "iteration 0 / 1500: loss 782.527154\n",
      "iteration 100 / 1500: loss 6.934894\n",
      "iteration 200 / 1500: loss 2.144934\n",
      "iteration 300 / 1500: loss 2.084196\n",
      "iteration 400 / 1500: loss 2.093650\n",
      "iteration 500 / 1500: loss 2.089291\n",
      "iteration 600 / 1500: loss 2.072420\n",
      "iteration 700 / 1500: loss 2.091881\n",
      "iteration 800 / 1500: loss 2.042522\n",
      "iteration 900 / 1500: loss 2.089691\n",
      "iteration 1000 / 1500: loss 2.080914\n",
      "iteration 1100 / 1500: loss 2.105633\n",
      "iteration 1200 / 1500: loss 2.149567\n",
      "iteration 1300 / 1500: loss 2.104551\n",
      "iteration 1400 / 1500: loss 2.057487\n",
      "iteration 0 / 1500: loss 15334.536402\n",
      "iteration 100 / 1500: loss 2.811403\n",
      "iteration 200 / 1500: loss 2.282922\n",
      "iteration 300 / 1500: loss 2.274090\n",
      "iteration 400 / 1500: loss 2.264384\n",
      "iteration 500 / 1500: loss 2.270746\n",
      "iteration 600 / 1500: loss 2.275408\n",
      "iteration 700 / 1500: loss 2.267383\n",
      "iteration 800 / 1500: loss 2.261091\n",
      "iteration 900 / 1500: loss 2.271759\n",
      "iteration 1000 / 1500: loss 2.266784\n",
      "iteration 1100 / 1500: loss 2.270571\n",
      "iteration 1200 / 1500: loss 2.260395\n",
      "iteration 1300 / 1500: loss 2.274952\n",
      "iteration 1400 / 1500: loss 2.265887\n",
      "iteration 0 / 1500: loss 15420.483818\n",
      "iteration 100 / 1500: loss 2.264063\n",
      "iteration 200 / 1500: loss 2.277357\n",
      "iteration 300 / 1500: loss 2.266474\n",
      "iteration 400 / 1500: loss 2.262871\n",
      "iteration 500 / 1500: loss 2.267366\n",
      "iteration 600 / 1500: loss 2.277022\n",
      "iteration 700 / 1500: loss 2.262819\n",
      "iteration 800 / 1500: loss 2.263290\n",
      "iteration 900 / 1500: loss 2.263840\n",
      "iteration 1000 / 1500: loss 2.267893\n",
      "iteration 1100 / 1500: loss 2.273347\n",
      "iteration 1200 / 1500: loss 2.275650\n",
      "iteration 1300 / 1500: loss 2.246117\n",
      "iteration 1400 / 1500: loss 2.259688\n",
      "iteration 0 / 1500: loss 15265.111145\n",
      "iteration 100 / 1500: loss 2.279770\n",
      "iteration 200 / 1500: loss 2.270701\n",
      "iteration 300 / 1500: loss 2.273185\n",
      "iteration 400 / 1500: loss 2.283217\n",
      "iteration 500 / 1500: loss 2.277608\n",
      "iteration 600 / 1500: loss 2.291017\n",
      "iteration 700 / 1500: loss 2.276838\n",
      "iteration 800 / 1500: loss 2.282506\n",
      "iteration 900 / 1500: loss 2.284017\n",
      "iteration 1000 / 1500: loss 2.263436\n",
      "iteration 1100 / 1500: loss 2.285519\n",
      "iteration 1200 / 1500: loss 2.283264\n",
      "iteration 1300 / 1500: loss 2.290883\n",
      "iteration 1400 / 1500: loss 2.281659\n",
      "lr 5.000000e-08 reg 5.000000e+04 train accuracy: 0.330408 val accuracy: 0.342000\n",
      "lr 5.000000e-08 reg 1.000000e+06 train accuracy: 0.246082 val accuracy: 0.262000\n",
      "lr 1.000000e-07 reg 5.000000e+04 train accuracy: 0.327469 val accuracy: 0.343000\n",
      "lr 1.000000e-07 reg 1.000000e+06 train accuracy: 0.258510 val accuracy: 0.280000\n",
      "lr 5.000000e-07 reg 5.000000e+04 train accuracy: 0.332918 val accuracy: 0.359000\n",
      "lr 5.000000e-07 reg 1.000000e+06 train accuracy: 0.252592 val accuracy: 0.261000\n",
      "best validation accuracy achieved during cross-validation: 0.359000\n"
     ]
    }
   ],
   "source": [
    "# Use the validation set to tune hyperparameters (regularization strength and\n",
    "# learning rate). You should experiment with different ranges for the learning\n",
    "# rates and regularization strengths; if you are careful you should be able to\n",
    "# get a classification accuracy of over 0.35 on the validation set.\n",
    "from cs231n.classifiers import Softmax\n",
    "results = {}\n",
    "best_val = -1\n",
    "best_softmax = None\n",
    "learning_rates = [5e-8, 1e-7, 5e-7]\n",
    "regularization_strengths = [5e4, 1e6]\n",
    "\n",
    "################################################################################\n",
    "# Use the validation set to set the learning rate and regularization strength. #\n",
    "# This should be identical to the validation that you did for the SVM; save    #\n",
    "# the best trained softmax classifer in best_softmax.                          #\n",
    "################################################################################\n",
    "for reg in regularization_strengths:\n",
    "    for lr in learning_rates:\n",
    "        softmax = Softmax()\n",
    "        softmax.train(X_train, y_train, learning_rate=lr, reg=reg, \n",
    "                  num_iters=1500, verbose=True)\n",
    "        \n",
    "        y_train_pred = softmax.predict(X_train)\n",
    "        train_acc = np.mean(y_train == y_train_pred)\n",
    "        y_val_pred = softmax.predict(X_val)\n",
    "        val_acc = np.mean(y_val == y_val_pred)\n",
    "        \n",
    "        results[(lr, reg)] = (train_acc, val_acc)\n",
    "        if val_acc > best_val:\n",
    "            best_val = val_acc\n",
    "            best_softmax = softmax\n",
    "################################################################################\n",
    "#                              END OF YOUR CODE                                #\n",
    "################################################################################\n",
    "    \n",
    "# Print out results.\n",
    "for lr, reg in sorted(results):\n",
    "    train_accuracy, val_accuracy = results[(lr, reg)]\n",
    "    print 'lr %e reg %e train accuracy: %f val accuracy: %f' % (\n",
    "                lr, reg, train_accuracy, val_accuracy)\n",
    "    \n",
    "print 'best validation accuracy achieved during cross-validation: %f' % best_val"
   ]
  },
  {
   "cell_type": "code",
   "execution_count": 7,
   "metadata": {
    "collapsed": false
   },
   "outputs": [
    {
     "name": "stdout",
     "output_type": "stream",
     "text": [
      "softmax on raw pixels final test set accuracy: 0.349000\n"
     ]
    }
   ],
   "source": [
    "# evaluate on test set\n",
    "# Evaluate the best softmax on test set\n",
    "y_test_pred = best_softmax.predict(X_test)\n",
    "test_accuracy = np.mean(y_test == y_test_pred)\n",
    "print 'softmax on raw pixels final test set accuracy: %f' % (test_accuracy, )"
   ]
  },
  {
   "cell_type": "code",
   "execution_count": 8,
   "metadata": {
    "collapsed": false
   },
   "outputs": [
    {
     "data": {
      "image/png": "[encoded data removed]",
      "text/plain": [
       "<matplotlib.figure.Figure at 0x7f65a08ac650>"
      ]
     },
     "metadata": {},
     "output_type": "display_data"
    }
   ],
   "source": [
    "# Visualize the learned weights for each class\n",
    "w = best_softmax.W[:-1,:] # strip out the bias\n",
    "w = w.reshape(32, 32, 3, 10)\n",
    "\n",
    "w_min, w_max = np.min(w), np.max(w)\n",
    "\n",
    "classes = ['plane', 'car', 'bird', 'cat', 'deer', 'dog', 'frog', 'horse', 'ship', 'truck']\n",
    "for i in xrange(10):\n",
    "  plt.subplot(2, 5, i + 1)\n",
    "  \n",
    "  # Rescale the weights to be between 0 and 255\n",
    "  wimg = 255.0 * (w[:, :, :, i].squeeze() - w_min) / (w_max - w_min)\n",
    "  plt.imshow(wimg.astype('uint8'))\n",
    "  plt.axis('off')\n",
    "  plt.title(classes[i])"
   ]
  }
 ],
 "metadata": {
  "kernelspec": {
   "display_name": "Python 2",
   "language": "python",
   "name": "python2"
  },
  "language_info": {
   "codemirror_mode": {
    "name": "ipython",
    "version": 2
   },
   "file_extension": ".py",
   "mimetype": "text/x-python",
   "name": "python",
   "nbconvert_exporter": "python",
   "pygments_lexer": "ipython2",
   "version": "2.7.12"
  }
 },
 "nbformat": 4,
 "nbformat_minor": 0
}
